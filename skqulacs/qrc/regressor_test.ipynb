{
 "cells": [
  {
   "cell_type": "code",
   "execution_count": 1,
   "metadata": {},
   "outputs": [
    {
     "name": "stderr",
     "output_type": "stream",
     "text": [
      "/workspace/scikit-qulacs/.venv/lib/python3.9/site-packages/sklearn/utils/deprecation.py:87: FutureWarning: Function load_boston is deprecated; `load_boston` is deprecated in 1.0 and will be removed in 1.2.\n",
      "\n",
      "    The Boston housing prices dataset has an ethical problem. You can refer to\n",
      "    the documentation of this function for further details.\n",
      "\n",
      "    The scikit-learn maintainers therefore strongly discourage the use of this\n",
      "    dataset unless the purpose of the code is to study and educate about\n",
      "    ethical issues in data science and machine learning.\n",
      "\n",
      "    In this special case, you can fetch the dataset from the original\n",
      "    source::\n",
      "\n",
      "        import pandas as pd\n",
      "        import numpy as np\n",
      "\n",
      "\n",
      "        data_url = \"http://lib.stat.cmu.edu/datasets/boston\"\n",
      "        raw_df = pd.read_csv(data_url, sep=\"\\s+\", skiprows=22, header=None)\n",
      "        data = np.hstack([raw_df.values[::2, :], raw_df.values[1::2, :2]])\n",
      "        target = raw_df.values[1::2, 2]\n",
      "\n",
      "    Alternative datasets include the California housing dataset (i.e.\n",
      "    :func:`~sklearn.datasets.fetch_california_housing`) and the Ames housing\n",
      "    dataset. You can load the datasets as follows::\n",
      "\n",
      "        from sklearn.datasets import fetch_california_housing\n",
      "        housing = fetch_california_housing()\n",
      "\n",
      "    for the California housing dataset and::\n",
      "\n",
      "        from sklearn.datasets import fetch_openml\n",
      "        housing = fetch_openml(name=\"house_prices\", as_frame=True)\n",
      "\n",
      "    for the Ames housing dataset.\n",
      "    \n",
      "  warnings.warn(msg, category=FutureWarning)\n"
     ]
    }
   ],
   "source": [
    "from sklearn.datasets import load_boston\n",
    "from sklearn.model_selection import train_test_split\n",
    "import numpy as np\n",
    "X, y = load_boston(return_X_y=True)\n",
    "X_train, X_test, y_train, y_test = train_test_split(X, y, test_size=0.2, shuffle=True)"
   ]
  },
  {
   "cell_type": "code",
   "execution_count": 2,
   "metadata": {},
   "outputs": [
    {
     "data": {
      "text/plain": [
       "0.7466560563770515"
      ]
     },
     "execution_count": 2,
     "metadata": {},
     "output_type": "execute_result"
    }
   ],
   "source": [
    "from regressor import QRCRegressor\n",
    "\n",
    "regressor = QRCRegressor(n_qubit=8, circuit=None, observables=None)\n",
    "regressor.fit(X_train, y_train)\n",
    "regressor.score(X_test, y_test)"
   ]
  },
  {
   "cell_type": "code",
   "execution_count": 3,
   "metadata": {},
   "outputs": [
    {
     "data": {
      "text/plain": [
       "array([24.17617847, 22.90916957, 15.66722459,  8.95400016, 26.52712888,\n",
       "       34.66289795, 10.08773329, 31.93230701, 37.00350716, 47.28972028,\n",
       "       30.37210694, 19.30133512, 12.84431713, 15.74508782, 20.67191158,\n",
       "       24.80334788, 19.76926045, 25.29726839, 22.52918345, 27.17584282,\n",
       "       32.64864829, 34.73613463,  5.24362502, 33.23891078, 20.51558312,\n",
       "       24.28901918, 35.00203773, 23.97261027, 15.61414893, 27.62149647,\n",
       "       33.6046259 , 15.3164337 , 41.03418885, 21.13743713, 17.11840814,\n",
       "       19.19524647, 17.13365249, 14.18910474, 22.21053124, 29.78910288,\n",
       "       15.83574848, 16.68919324, 29.95666929, 19.11202938, 25.92860143,\n",
       "       18.21618123, 24.42202414, 23.26851707, 25.13855516, 14.04815037,\n",
       "       17.23810115, 30.55129998, 27.75585856, 23.37155667, 22.62475427,\n",
       "       18.9546581 , 18.32525642, 20.41873559, 16.99286172, 31.33051484,\n",
       "       23.10802142, 17.10576546, 35.42941536, 40.66798437, 23.82378931,\n",
       "       19.66406808,  8.31940578, 23.12493835, 17.35700098, 16.62792571,\n",
       "       24.91982026, 24.96282322, 22.01254743, 13.12312947, 21.17944668,\n",
       "       16.57766186, 11.5957541 , 20.80832219, 27.49399005, 21.84058264,\n",
       "        9.86529042, 19.23204624, 20.99654096, 20.86727995, 23.16114894,\n",
       "       22.65869147, 39.26071732, 14.26109456, 17.73266777, 31.42450989,\n",
       "       27.94385726, 15.91471899, 15.90326594, 19.8633361 , 29.56603722,\n",
       "       22.14557455, 35.08953174, 43.76905082, 28.76829377, 10.70566684,\n",
       "       18.57380695, 26.44748996])"
      ]
     },
     "execution_count": 3,
     "metadata": {},
     "output_type": "execute_result"
    }
   ],
   "source": [
    "regressor.predict(X_test)"
   ]
  }
 ],
 "metadata": {
  "interpreter": {
   "hash": "31f2aee4e71d21fbe5cf8b01ff0e069b9275f58929596ceb00d14d90e3e16cd6"
  },
  "kernelspec": {
   "display_name": "Python 3.8.10 64-bit",
   "language": "python",
   "name": "python3"
  },
  "language_info": {
   "codemirror_mode": {
    "name": "ipython",
    "version": 3
   },
   "file_extension": ".py",
   "mimetype": "text/x-python",
   "name": "python",
   "nbconvert_exporter": "python",
   "pygments_lexer": "ipython3",
   "version": "3.9.9"
  },
  "orig_nbformat": 4
 },
 "nbformat": 4,
 "nbformat_minor": 2
}
