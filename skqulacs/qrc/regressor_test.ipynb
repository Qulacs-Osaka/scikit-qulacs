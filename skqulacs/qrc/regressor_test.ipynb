{
 "cells": [
  {
   "cell_type": "code",
   "execution_count": 1,
   "metadata": {},
   "outputs": [
    {
     "name": "stderr",
     "output_type": "stream",
     "text": [
      "/workspace/scikit-qulacs/.venv/lib/python3.9/site-packages/sklearn/utils/deprecation.py:87: FutureWarning: Function load_boston is deprecated; `load_boston` is deprecated in 1.0 and will be removed in 1.2.\n",
      "\n",
      "    The Boston housing prices dataset has an ethical problem. You can refer to\n",
      "    the documentation of this function for further details.\n",
      "\n",
      "    The scikit-learn maintainers therefore strongly discourage the use of this\n",
      "    dataset unless the purpose of the code is to study and educate about\n",
      "    ethical issues in data science and machine learning.\n",
      "\n",
      "    In this special case, you can fetch the dataset from the original\n",
      "    source::\n",
      "\n",
      "        import pandas as pd\n",
      "        import numpy as np\n",
      "\n",
      "\n",
      "        data_url = \"http://lib.stat.cmu.edu/datasets/boston\"\n",
      "        raw_df = pd.read_csv(data_url, sep=\"\\s+\", skiprows=22, header=None)\n",
      "        data = np.hstack([raw_df.values[::2, :], raw_df.values[1::2, :2]])\n",
      "        target = raw_df.values[1::2, 2]\n",
      "\n",
      "    Alternative datasets include the California housing dataset (i.e.\n",
      "    :func:`~sklearn.datasets.fetch_california_housing`) and the Ames housing\n",
      "    dataset. You can load the datasets as follows::\n",
      "\n",
      "        from sklearn.datasets import fetch_california_housing\n",
      "        housing = fetch_california_housing()\n",
      "\n",
      "    for the California housing dataset and::\n",
      "\n",
      "        from sklearn.datasets import fetch_openml\n",
      "        housing = fetch_openml(name=\"house_prices\", as_frame=True)\n",
      "\n",
      "    for the Ames housing dataset.\n",
      "    \n",
      "  warnings.warn(msg, category=FutureWarning)\n"
     ]
    }
   ],
   "source": [
    "from sklearn.datasets import load_boston\n",
    "from sklearn.model_selection import train_test_split\n",
    "import numpy as np\n",
    "X, y = load_boston(return_X_y=True)\n",
    "X_train, X_test, y_train, y_test = train_test_split(X, y, test_size=0.2, shuffle=True)"
   ]
  },
  {
   "cell_type": "code",
   "execution_count": 2,
   "metadata": {},
   "outputs": [
    {
     "data": {
      "text/plain": [
       "0.8171710299311702"
      ]
     },
     "execution_count": 2,
     "metadata": {},
     "output_type": "execute_result"
    }
   ],
   "source": [
    "from regressor import QRCRegressor\n",
    "\n",
    "regressor = QRCRegressor(n_qubit=8, circuit=None, observables=None)\n",
    "regressor.fit(X_train, y_train)\n",
    "regressor.score(X_test, y_test)"
   ]
  },
  {
   "cell_type": "code",
   "execution_count": 3,
   "metadata": {},
   "outputs": [
    {
     "data": {
      "text/plain": [
       "array([23.91013397, 20.5292653 , 16.15766225, 23.82609747, 22.876463  ,\n",
       "       39.20680526, 19.83014382, 30.11760935, 31.64206882, 22.3477909 ,\n",
       "       16.46783761, 36.19913108, 19.95468829, 35.35328831, 23.79051828,\n",
       "       12.76648959, 15.89319888, 26.25752545, 22.43073714, 27.61168393,\n",
       "       25.98463494, 35.28196239, 20.54329558, 27.22455044, 17.15870866,\n",
       "       14.16316178, 24.86798595, 17.89336857,  8.42000736, 33.30022304,\n",
       "       22.53267246, 25.28368298, 11.46185041, 45.55352739, 47.73873115,\n",
       "       16.543822  , 22.40879199, 19.10678315, 16.66111645, 17.05478301,\n",
       "       17.28490703, 25.56965076,  9.877718  , 46.82993341, 36.83459566,\n",
       "       23.31443401, 27.70881033, 14.96320658, 12.87656474, 27.12876644,\n",
       "       20.52885912, 22.7734046 , 23.8596005 , 13.22897431, 11.34492737,\n",
       "       18.80150349, 18.00009036, 20.64601374, 32.48363229, 17.29674934,\n",
       "       18.98934098,  9.87171108,  4.20164107, 12.30513751, 36.91391111,\n",
       "       20.84705124, 13.32237221, 26.16278495, 25.26079741, 15.81665237,\n",
       "        4.44441988, 16.04017149, 34.36582915, 20.09609508,  7.09519697,\n",
       "       19.5556032 , 25.06196444, 33.37283784, 33.66814322, 10.69520107,\n",
       "       17.44686771, 16.21400418, 16.11271895, 23.99452719, 13.8828358 ,\n",
       "       33.05893516, 13.08091213, 24.04456376, 39.85418816, 45.21720169,\n",
       "       21.56499696, 17.51766931, 23.86762662, 23.20930419, 19.68414137,\n",
       "       16.19891135, 25.5181706 ,  8.53743153, 30.96979766, 13.33820736,\n",
       "        7.62152786, 41.0135782 ])"
      ]
     },
     "execution_count": 3,
     "metadata": {},
     "output_type": "execute_result"
    }
   ],
   "source": [
    "regressor.predict(X_test)"
   ]
  }
 ],
 "metadata": {
  "interpreter": {
   "hash": "31f2aee4e71d21fbe5cf8b01ff0e069b9275f58929596ceb00d14d90e3e16cd6"
  },
  "kernelspec": {
   "display_name": "Python 3.8.10 64-bit",
   "language": "python",
   "name": "python3"
  },
  "language_info": {
   "codemirror_mode": {
    "name": "ipython",
    "version": 3
   },
   "file_extension": ".py",
   "mimetype": "text/x-python",
   "name": "python",
   "nbconvert_exporter": "python",
   "pygments_lexer": "ipython3",
   "version": "3.9.9"
  },
  "orig_nbformat": 4
 },
 "nbformat": 4,
 "nbformat_minor": 2
}
