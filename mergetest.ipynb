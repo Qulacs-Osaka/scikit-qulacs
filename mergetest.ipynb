{
 "cells": [
  {
   "cell_type": "code",
   "execution_count": 1,
   "metadata": {},
   "outputs": [
    {
     "ename": "TypeError",
     "evalue": "__init__() missing 2 required positional arguments: 'parameter_id' and 'value'",
     "output_type": "error",
     "traceback": [
      "\u001b[0;31m---------------------------------------------------------------------------\u001b[0m",
      "\u001b[0;31mTypeError\u001b[0m                                 Traceback (most recent call last)",
      "\u001b[0;32m/tmp/ipykernel_18984/440695861.py\u001b[0m in \u001b[0;36m<module>\u001b[0;34m\u001b[0m\n\u001b[1;32m     14\u001b[0m \u001b[0;34m\u001b[0m\u001b[0m\n\u001b[1;32m     15\u001b[0m \u001b[0mcircuit1\u001b[0m\u001b[0;34m.\u001b[0m\u001b[0mmerge_circuit\u001b[0m\u001b[0;34m(\u001b[0m\u001b[0mcircuit2\u001b[0m\u001b[0;34m)\u001b[0m\u001b[0;34m\u001b[0m\u001b[0;34m\u001b[0m\u001b[0m\n\u001b[0;32m---> 16\u001b[0;31m \u001b[0;32massert\u001b[0m \u001b[0mcircuit1\u001b[0m\u001b[0;34m.\u001b[0m\u001b[0m_learning_parameter_list\u001b[0m\u001b[0;34m[\u001b[0m\u001b[0;36m0\u001b[0m\u001b[0;34m]\u001b[0m \u001b[0;34m==\u001b[0m \u001b[0m_LearningParameter\u001b[0m\u001b[0;34m(\u001b[0m\u001b[0;34m[\u001b[0m\u001b[0;36m0\u001b[0m\u001b[0;34m,\u001b[0m \u001b[0;36m1\u001b[0m\u001b[0;34m]\u001b[0m\u001b[0;34m)\u001b[0m\u001b[0;34m\u001b[0m\u001b[0;34m\u001b[0m\u001b[0m\n\u001b[0m\u001b[1;32m     17\u001b[0m \u001b[0;32massert\u001b[0m \u001b[0mcircuit1\u001b[0m\u001b[0;34m.\u001b[0m\u001b[0m_learning_parameter_list\u001b[0m\u001b[0;34m[\u001b[0m\u001b[0;36m3\u001b[0m\u001b[0;34m]\u001b[0m \u001b[0;34m==\u001b[0m \u001b[0m_LearningParameter\u001b[0m\u001b[0;34m(\u001b[0m\u001b[0;34m[\u001b[0m\u001b[0;36m5\u001b[0m\u001b[0;34m,\u001b[0m \u001b[0;36m6\u001b[0m\u001b[0;34m,\u001b[0m \u001b[0;36m7\u001b[0m\u001b[0;34m]\u001b[0m\u001b[0;34m)\u001b[0m\u001b[0;34m\u001b[0m\u001b[0;34m\u001b[0m\u001b[0m\n",
      "\u001b[0;31mTypeError\u001b[0m: __init__() missing 2 required positional arguments: 'parameter_id' and 'value'"
     ]
    }
   ],
   "source": [
    "from skqulacs.circuit.circuit import LearningCircuit\n",
    "from skqulacs.circuit.circuit import _LearningParameter\n",
    "\n",
    "circuit1 = LearningCircuit(2)\n",
    "circuit1.add_parametric_RX_gate(0, 0.0)\n",
    "circuit1.add_parametric_RY_gate(1, 0.0, share_with=0)\n",
    "circuit1.add_parametric_RZ_gate(0, 0.0)\n",
    "\n",
    "circuit2 = LearningCircuit(2)\n",
    "circuit2.add_parametric_RZ_gate(0, 0.0)\n",
    "circuit2.add_parametric_RY_gate(1, 0.0)\n",
    "circuit2.add_parametric_RZ_gate(0, 0.0, share_with=1)\n",
    "circuit2.add_parametric_RX_gate(0, 0.0, share_with=1)\n",
    "\n",
    "circuit1.merge_circuit(circuit2)\n",
    "assert circuit1._learning_parameter_list[0] == _LearningParameter([0, 1])\n",
    "assert circuit1._learning_parameter_list[3] == _LearningParameter([5, 6, 7])"
   ]
  },
  {
   "cell_type": "code",
   "execution_count": 2,
   "metadata": {},
   "outputs": [
    {
     "name": "stdout",
     "output_type": "stream",
     "text": [
      "_LearningParameter(positions_in_circuit=[0, 1], parameter_id=0, value=0.0, is_input=False)\n",
      "_LearningParameter(positions_in_circuit=[2], parameter_id=1, value=0.0, is_input=False)\n",
      "\n",
      "_LearningParameter(positions_in_circuit=[0], parameter_id=0, value=0.0, is_input=False)\n",
      "_LearningParameter(positions_in_circuit=[1, 2, 3], parameter_id=1, value=0.0, is_input=False)\n",
      "3\n",
      "\n",
      "*** Quantum Circuit Info ***\n",
      "# of qubit: 2\n",
      "# of step : 2\n",
      "# of gate : 3\n",
      "# of 1 qubit gate: 3\n",
      "Clifford  : no\n",
      "Gaussian  : no\n",
      "\n",
      "*** Parameter Info ***\n",
      "# of parameter: 3\n",
      "\n",
      "[0.0, 0.0]\n",
      "_LearningParameter(positions_in_circuit=[0, 1], parameter_id=0, value=0.0, is_input=False)\n",
      "_LearningParameter(positions_in_circuit=[2], parameter_id=1, value=0.0, is_input=False)\n",
      "_LearningParameter(positions_in_circuit=[3], parameter_id=2, value=0.0, is_input=False)\n",
      "_LearningParameter(positions_in_circuit=[4, 5, 6], parameter_id=3, value=0.0, is_input=False)\n",
      "\n",
      "_LearningParameter(positions_in_circuit=[0], parameter_id=0, value=0.0, is_input=False)\n",
      "_LearningParameter(positions_in_circuit=[1, 2, 3], parameter_id=1, value=0.0, is_input=False)\n",
      "3\n",
      "*** Quantum Circuit Info ***\n",
      "# of qubit: 2\n",
      "# of step : 5\n",
      "# of gate : 7\n",
      "# of 1 qubit gate: 7\n",
      "Clifford  : no\n",
      "Gaussian  : no\n",
      "\n",
      "*** Parameter Info ***\n",
      "# of parameter: 3\n",
      "\n",
      "[0.0, 0.0, 0.0, 0.0]\n"
     ]
    }
   ],
   "source": [
    "from skqulacs.circuit.circuit import LearningCircuit\n",
    "from skqulacs.circuit.circuit import _LearningParameter\n",
    "\n",
    "circuit1 = LearningCircuit(2)\n",
    "circuit1.add_parametric_RX_gate(0, 0.0)\n",
    "circuit1.add_parametric_RY_gate(1, 0.0, share_with=0)\n",
    "circuit1.add_parametric_RZ_gate(0, 0.0)\n",
    "\n",
    "circuit2 = LearningCircuit(2)\n",
    "circuit2.add_parametric_RZ_gate(0, 0.0)\n",
    "circuit2.add_parametric_RY_gate(1, 0.0)\n",
    "circuit2.add_parametric_RZ_gate(0, 0.0, share_with=1)\n",
    "circuit2.add_parametric_RX_gate(0, 0.0, share_with=1)\n",
    "\n",
    "print(*circuit1._learning_parameter_list,sep='\\n')\n",
    "print()\n",
    "print(*circuit2._learning_parameter_list,sep='\\n')\n",
    "print(circuit1._new_parameter_position())\n",
    "print()\n",
    "print(circuit1._circuit)\n",
    "print(circuit1.get_parameters())\n",
    "circuit1.merge_circuit(circuit2)\n",
    "print(*circuit1._learning_parameter_list,sep='\\n')\n",
    "print()\n",
    "print(*circuit2._learning_parameter_list,sep='\\n')\n",
    "\n",
    "print(circuit1._new_parameter_position())\n",
    "\n",
    "print(circuit1._circuit)\n",
    "print(circuit1.get_parameters())"
   ]
  },
  {
   "cell_type": "code",
   "execution_count": 3,
   "metadata": {},
   "outputs": [
    {
     "name": "stdout",
     "output_type": "stream",
     "text": [
      "3\n",
      "3\n"
     ]
    }
   ],
   "source": [
    "circuit1 = LearningCircuit(2)\n",
    "circuit1.add_parametric_RX_gate(0, 0.0)\n",
    "circuit1.add_parametric_RY_gate(1, 0.0, share_with=0)\n",
    "circuit1.add_parametric_RZ_gate(0, 0.0)\n",
    "\n",
    "circuit2 = LearningCircuit(2)\n",
    "circuit2.add_parametric_RZ_gate(0, 0.0)\n",
    "circuit2.add_parametric_RY_gate(1, 0.0)\n",
    "circuit2.add_parametric_RZ_gate(0, 0.0, share_with=1)\n",
    "circuit2.add_parametric_RX_gate(0, 0.0, share_with=1)\n",
    "\n",
    "print(circuit1._new_parameter_position())\n",
    "circuit1.merge_circuit(circuit2)\n",
    "print(circuit1._new_parameter_position())"
   ]
  }
 ],
 "metadata": {
  "interpreter": {
   "hash": "31f2aee4e71d21fbe5cf8b01ff0e069b9275f58929596ceb00d14d90e3e16cd6"
  },
  "kernelspec": {
   "display_name": "Python 3.8.10 64-bit",
   "language": "python",
   "name": "python3"
  },
  "language_info": {
   "codemirror_mode": {
    "name": "ipython",
    "version": 3
   },
   "file_extension": ".py",
   "mimetype": "text/x-python",
   "name": "python",
   "nbconvert_exporter": "python",
   "pygments_lexer": "ipython3",
   "version": "3.8.10"
  },
  "orig_nbformat": 4
 },
 "nbformat": 4,
 "nbformat_minor": 2
}
