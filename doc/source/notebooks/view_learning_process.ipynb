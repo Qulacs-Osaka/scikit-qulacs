{
 "cells": [
  {
   "attachments": {},
   "cell_type": "markdown",
   "metadata": {},
   "source": [
    "# 学習過程の可視化"
   ]
  },
  {
   "attachments": {},
   "cell_type": "markdown",
   "metadata": {},
   "source": [
    "ここではチュートリアルで扱ったQNNClassifierとQNNRegressorにおいて、学習経過に従って学習が実際に進んでいく様子を可視化する."
   ]
  },
  {
   "attachments": {},
   "cell_type": "markdown",
   "metadata": {},
   "source": [
    "まずインストールを行う."
   ]
  },
  {
   "cell_type": "code",
   "execution_count": 30,
   "metadata": {},
   "outputs": [
    {
     "name": "stdout",
     "output_type": "stream",
     "text": [
      "\u001b[33mDEPRECATION: Configuring installation scheme with distutils config files is deprecated and will no longer work in the near future. If you are using a Homebrew or Linuxbrew Python, please see discussion at https://github.com/Homebrew/homebrew-core/issues/76621\u001b[0m\u001b[33m\n",
      "\u001b[0mRequirement already satisfied: skqulacs in /usr/local/lib/python3.9/site-packages (0.4.1)\n",
      "Requirement already satisfied: qulacs<0.6.0,>=0.5.0 in /usr/local/lib/python3.9/site-packages (from skqulacs) (0.5.3)\n",
      "Requirement already satisfied: scipy<1.8.0,>=1.7.0 in /usr/local/lib/python3.9/site-packages (from skqulacs) (1.7.3)\n",
      "Requirement already satisfied: scikit-learn<2.0.0,>=1.0.0 in /usr/local/lib/python3.9/site-packages (from skqulacs) (1.2.0)\n",
      "Requirement already satisfied: numpy<1.22.0,>=1.21.0 in /usr/local/lib/python3.9/site-packages (from skqulacs) (1.21.6)\n",
      "Requirement already satisfied: typing-extensions<5.0.0,>=4.3.0 in /usr/local/lib/python3.9/site-packages (from skqulacs) (4.4.0)\n",
      "Requirement already satisfied: joblib>=1.1.1 in /usr/local/lib/python3.9/site-packages (from scikit-learn<2.0.0,>=1.0.0->skqulacs) (1.2.0)\n",
      "Requirement already satisfied: threadpoolctl>=2.0.0 in /usr/local/lib/python3.9/site-packages (from scikit-learn<2.0.0,>=1.0.0->skqulacs) (3.1.0)\n",
      "\u001b[33mDEPRECATION: Configuring installation scheme with distutils config files is deprecated and will no longer work in the near future. If you are using a Homebrew or Linuxbrew Python, please see discussion at https://github.com/Homebrew/homebrew-core/issues/76621\u001b[0m\u001b[33m\n",
      "\u001b[0m\n",
      "\u001b[1m[\u001b[0m\u001b[34;49mnotice\u001b[0m\u001b[1;39;49m]\u001b[0m\u001b[39;49m A new release of pip available: \u001b[0m\u001b[31;49m22.1.2\u001b[0m\u001b[39;49m -> \u001b[0m\u001b[32;49m22.3.1\u001b[0m\n",
      "\u001b[1m[\u001b[0m\u001b[34;49mnotice\u001b[0m\u001b[1;39;49m]\u001b[0m\u001b[39;49m To update, run: \u001b[0m\u001b[32;49mpython3.9 -m pip install --upgrade pip\u001b[0m\n",
      "\u001b[33mDEPRECATION: Configuring installation scheme with distutils config files is deprecated and will no longer work in the near future. If you are using a Homebrew or Linuxbrew Python, please see discussion at https://github.com/Homebrew/homebrew-core/issues/76621\u001b[0m\u001b[33m\n",
      "\u001b[0mRequirement already satisfied: qulacsvis in /usr/local/lib/python3.9/site-packages (0.5.0)\n",
      "Requirement already satisfied: dataclasses-json<0.6.0,>=0.5.7 in /usr/local/lib/python3.9/site-packages (from qulacsvis) (0.5.7)\n",
      "Requirement already satisfied: numpy<1.22.0,>=1.21.0 in /usr/local/lib/python3.9/site-packages (from qulacsvis) (1.21.6)\n",
      "Requirement already satisfied: matplotlib<4.0.0,>=3.4.3 in /usr/local/lib/python3.9/site-packages (from qulacsvis) (3.5.2)\n",
      "Requirement already satisfied: scipy<1.8.0,>=1.7.0 in /usr/local/lib/python3.9/site-packages (from qulacsvis) (1.7.3)\n",
      "Requirement already satisfied: Pillow<10.0.0,>=9.1.0 in /usr/local/lib/python3.9/site-packages (from qulacsvis) (9.2.0)\n",
      "Requirement already satisfied: temp<2021.0.0,>=2020.7.2 in /usr/local/lib/python3.9/site-packages (from qulacsvis) (2020.7.2)\n",
      "Requirement already satisfied: Qulacs>=0.5.0 in /usr/local/lib/python3.9/site-packages (from qulacsvis) (0.5.3)\n",
      "Requirement already satisfied: marshmallow<4.0.0,>=3.3.0 in /usr/local/lib/python3.9/site-packages (from dataclasses-json<0.6.0,>=0.5.7->qulacsvis) (3.19.0)\n",
      "Requirement already satisfied: typing-inspect>=0.4.0 in /usr/local/lib/python3.9/site-packages (from dataclasses-json<0.6.0,>=0.5.7->qulacsvis) (0.8.0)\n",
      "Requirement already satisfied: marshmallow-enum<2.0.0,>=1.5.1 in /usr/local/lib/python3.9/site-packages (from dataclasses-json<0.6.0,>=0.5.7->qulacsvis) (1.5.1)\n",
      "Requirement already satisfied: kiwisolver>=1.0.1 in /usr/local/lib/python3.9/site-packages (from matplotlib<4.0.0,>=3.4.3->qulacsvis) (1.4.3)\n",
      "Requirement already satisfied: fonttools>=4.22.0 in /usr/local/lib/python3.9/site-packages (from matplotlib<4.0.0,>=3.4.3->qulacsvis) (4.34.4)\n",
      "Requirement already satisfied: packaging>=20.0 in /usr/local/lib/python3.9/site-packages (from matplotlib<4.0.0,>=3.4.3->qulacsvis) (21.3)\n",
      "Requirement already satisfied: python-dateutil>=2.7 in /usr/local/lib/python3.9/site-packages (from matplotlib<4.0.0,>=3.4.3->qulacsvis) (2.8.2)\n",
      "Requirement already satisfied: cycler>=0.10 in /usr/local/lib/python3.9/site-packages (from matplotlib<4.0.0,>=3.4.3->qulacsvis) (0.11.0)\n",
      "Requirement already satisfied: pyparsing>=2.2.1 in /usr/local/lib/python3.9/site-packages (from matplotlib<4.0.0,>=3.4.3->qulacsvis) (3.0.9)\n",
      "Requirement already satisfied: six>=1.5 in /usr/local/lib/python3.9/site-packages (from python-dateutil>=2.7->matplotlib<4.0.0,>=3.4.3->qulacsvis) (1.16.0)\n",
      "Requirement already satisfied: typing-extensions>=3.7.4 in /usr/local/lib/python3.9/site-packages (from typing-inspect>=0.4.0->dataclasses-json<0.6.0,>=0.5.7->qulacsvis) (4.4.0)\n",
      "Requirement already satisfied: mypy-extensions>=0.3.0 in /usr/local/lib/python3.9/site-packages (from typing-inspect>=0.4.0->dataclasses-json<0.6.0,>=0.5.7->qulacsvis) (0.4.3)\n",
      "\u001b[33mDEPRECATION: Configuring installation scheme with distutils config files is deprecated and will no longer work in the near future. If you are using a Homebrew or Linuxbrew Python, please see discussion at https://github.com/Homebrew/homebrew-core/issues/76621\u001b[0m\u001b[33m\n",
      "\u001b[0m\n",
      "\u001b[1m[\u001b[0m\u001b[34;49mnotice\u001b[0m\u001b[1;39;49m]\u001b[0m\u001b[39;49m A new release of pip available: \u001b[0m\u001b[31;49m22.1.2\u001b[0m\u001b[39;49m -> \u001b[0m\u001b[32;49m22.3.1\u001b[0m\n",
      "\u001b[1m[\u001b[0m\u001b[34;49mnotice\u001b[0m\u001b[1;39;49m]\u001b[0m\u001b[39;49m To update, run: \u001b[0m\u001b[32;49mpython3.9 -m pip install --upgrade pip\u001b[0m\n",
      "\u001b[33mDEPRECATION: Configuring installation scheme with distutils config files is deprecated and will no longer work in the near future. If you are using a Homebrew or Linuxbrew Python, please see discussion at https://github.com/Homebrew/homebrew-core/issues/76621\u001b[0m\u001b[33m\n",
      "\u001b[0mRequirement already satisfied: tqdm in /usr/local/lib/python3.9/site-packages (4.64.1)\n",
      "\u001b[33mDEPRECATION: Configuring installation scheme with distutils config files is deprecated and will no longer work in the near future. If you are using a Homebrew or Linuxbrew Python, please see discussion at https://github.com/Homebrew/homebrew-core/issues/76621\u001b[0m\u001b[33m\n",
      "\u001b[0m\n",
      "\u001b[1m[\u001b[0m\u001b[34;49mnotice\u001b[0m\u001b[1;39;49m]\u001b[0m\u001b[39;49m A new release of pip available: \u001b[0m\u001b[31;49m22.1.2\u001b[0m\u001b[39;49m -> \u001b[0m\u001b[32;49m22.3.1\u001b[0m\n",
      "\u001b[1m[\u001b[0m\u001b[34;49mnotice\u001b[0m\u001b[1;39;49m]\u001b[0m\u001b[39;49m To update, run: \u001b[0m\u001b[32;49mpython3.9 -m pip install --upgrade pip\u001b[0m\n"
     ]
    }
   ],
   "source": [
    "!pip install skqulacs\n",
    "!pip install qulacsvis\n",
    "!pip install tqdm"
   ]
  },
  {
   "attachments": {},
   "cell_type": "markdown",
   "metadata": {},
   "source": [
    "## skqulacs.qnn.QNNClassifierについて学習過程の可視化"
   ]
  },
  {
   "attachments": {},
   "cell_type": "markdown",
   "metadata": {},
   "source": [
    "データを用意する."
   ]
  },
  {
   "cell_type": "code",
   "execution_count": 31,
   "metadata": {},
   "outputs": [],
   "source": [
    "from sklearn import datasets\n",
    "iris = datasets.load_iris()"
   ]
  },
  {
   "cell_type": "code",
   "execution_count": 32,
   "metadata": {},
   "outputs": [],
   "source": [
    "X = iris.data\n",
    "T = iris.target"
   ]
  },
  {
   "attachments": {},
   "cell_type": "markdown",
   "metadata": {},
   "source": [
    "訓練データとテストデータに分ける."
   ]
  },
  {
   "cell_type": "code",
   "execution_count": 33,
   "metadata": {},
   "outputs": [
    {
     "data": {
      "text/plain": [
       "(120, 30, 120, 30)"
      ]
     },
     "execution_count": 33,
     "metadata": {},
     "output_type": "execute_result"
    }
   ],
   "source": [
    "from sklearn.model_selection import train_test_split\n",
    "import numpy as np\n",
    "\n",
    "np.random.seed(0) # 乱数初期化を固定値に\n",
    "train_x, test_x, train_t, test_t = train_test_split(X, T, train_size=0.8, test_size=0.2)\n",
    "len(train_x), len(test_x), len(train_t), len(test_t) # サイズ表示"
   ]
  },
  {
   "attachments": {},
   "cell_type": "markdown",
   "metadata": {},
   "source": [
    "訓練データをバッチに分ける."
   ]
  },
  {
   "cell_type": "code",
   "execution_count": 34,
   "metadata": {},
   "outputs": [],
   "source": [
    "batch_size = 4\n",
    "batched_train_x_list = np.array_split(train_x, batch_size)\n",
    "batched_train_t_list = np.array_split(train_t, batch_size)"
   ]
  },
  {
   "attachments": {},
   "cell_type": "markdown",
   "metadata": {},
   "source": [
    "量子回路を用意する."
   ]
  },
  {
   "cell_type": "code",
   "execution_count": 35,
   "metadata": {},
   "outputs": [],
   "source": [
    "from skqulacs.circuit.pre_defined import create_qcl_ansatz\n",
    "from skqulacs.qnn import QNNClassifier\n",
    "from skqulacs.qnn.solver import Bfgs\n",
    "\n",
    "nqubit = 5                      # qubitの数。必要とする入力、出力の次元数以上が必要である。\n",
    "c_depth = 3                     # circuitの深さ。ニューラルネットワークでの隠れ層に対応する。\n",
    "time_step = 1.                  # qcl_ansatz に必要となるパラメータ。横磁場イジングモデルによって発展させる時間を決める。\n",
    "num_class = 3                   # 分類数（ここでは3つの品種に分類）\n",
    "solver = Bfgs()                   # アルゴリズム。ほかには、`Adam()` や `NelderMead()` が使える。\n",
    "maxiter = 100                 # ループの最大。これが多いほど、正確になるが、時間がかかる。\n",
    "circuit = create_qcl_ansatz(nqubit, c_depth, time_step)     # LearningCircuitを作る\n",
    "qcl = QNNClassifier(circuit, num_class, solver)     # モデル構築を行う\n",
    "#opt_loss, opt_params = qcl.fit(x_train, y_train, maxiter)"
   ]
  },
  {
   "attachments": {},
   "cell_type": "markdown",
   "metadata": {},
   "source": [
    "各エポックの学習が終わるごとにf1 scoreを出力する."
   ]
  },
  {
   "cell_type": "code",
   "execution_count": 36,
   "metadata": {},
   "outputs": [
    {
     "name": "stdout",
     "output_type": "stream",
     "text": [
      "epoch 1\n"
     ]
    },
    {
     "name": "stderr",
     "output_type": "stream",
     "text": [
      "100%|██████████| 4/4 [00:37<00:00,  9.33s/it]\n"
     ]
    },
    {
     "name": "stdout",
     "output_type": "stream",
     "text": [
      "f1 score 0.8885057471264368\n",
      "epoch 2\n"
     ]
    },
    {
     "name": "stderr",
     "output_type": "stream",
     "text": [
      "100%|██████████| 4/4 [00:35<00:00,  8.86s/it]\n"
     ]
    },
    {
     "name": "stdout",
     "output_type": "stream",
     "text": [
      "f1 score 0.8885057471264368\n",
      "epoch 3\n"
     ]
    },
    {
     "name": "stderr",
     "output_type": "stream",
     "text": [
      "100%|██████████| 4/4 [00:33<00:00,  8.44s/it]\n"
     ]
    },
    {
     "name": "stdout",
     "output_type": "stream",
     "text": [
      "f1 score 0.8885057471264368\n",
      "epoch 4\n"
     ]
    },
    {
     "name": "stderr",
     "output_type": "stream",
     "text": [
      "100%|██████████| 4/4 [00:35<00:00,  8.82s/it]\n"
     ]
    },
    {
     "name": "stdout",
     "output_type": "stream",
     "text": [
      "f1 score 0.8885057471264368\n",
      "epoch 5\n"
     ]
    },
    {
     "name": "stderr",
     "output_type": "stream",
     "text": [
      "100%|██████████| 4/4 [00:36<00:00,  9.01s/it]"
     ]
    },
    {
     "name": "stdout",
     "output_type": "stream",
     "text": [
      "f1 score 0.8885057471264368\n"
     ]
    },
    {
     "name": "stderr",
     "output_type": "stream",
     "text": [
      "\n"
     ]
    }
   ],
   "source": [
    "from tqdm import tqdm\n",
    "from sklearn.metrics import f1_score\n",
    "epoch = 5\n",
    "\n",
    "opt_loss = [[0 for i in range(batch_size)] for i in range(epoch)]\n",
    "for i in (range(epoch)):\n",
    "  print(\"epoch\", (i + 1))\n",
    "  for j in tqdm(range(batch_size)):\n",
    "    one_batch_train = batched_train_x_list[j]\n",
    "    one_batch_test = batched_train_t_list[j]\n",
    "    qcl.fit(one_batch_train, one_batch_test, maxiter)\n",
    "  y_pred = qcl.predict(test_x)\n",
    "  print(\"f1 score\", f1_score(test_t, y_pred, average=\"weighted\"))"
   ]
  },
  {
   "attachments": {},
   "cell_type": "markdown",
   "metadata": {},
   "source": [
    "## skqulacs.qnn.QNNRegressorの学習過程の可視化"
   ]
  },
  {
   "attachments": {},
   "cell_type": "markdown",
   "metadata": {},
   "source": [
    "データの生成を行う."
   ]
  },
  {
   "cell_type": "code",
   "execution_count": 37,
   "metadata": {},
   "outputs": [],
   "source": [
    "import numpy as np\n",
    "from numpy.random import default_rng\n",
    "\n",
    "def generate_noisy_sine(x_min, x_max, num_x):\n",
    "    rng = default_rng(0)\n",
    "    x_train = [[rng.uniform(x_min, x_max)] for _ in range(num_x)]\n",
    "    y_train = [np.sin(np.pi*x[0]) for x in x_train]\n",
    "    mag_noise = 0.01\n",
    "    y_train += mag_noise * rng.random(num_x)\n",
    "    return np.array(x_train), np.array(y_train)\n",
    "  \n",
    "x_min = -1.0\n",
    "x_max = 1.0\n",
    "num_x = 80\n",
    "x_train, y_train = generate_noisy_sine(x_min, x_max, num_x)\n",
    "x_test, y_test = generate_noisy_sine(x_min, x_max, num_x)"
   ]
  },
  {
   "attachments": {},
   "cell_type": "markdown",
   "metadata": {},
   "source": [
    "量子回路を用意する. 学習の経過を可視化するために以下ではmaxiterを1にしており, 学習の効率自体はチュートリアルの時のものより下がっている."
   ]
  },
  {
   "cell_type": "code",
   "execution_count": 38,
   "metadata": {},
   "outputs": [],
   "source": [
    "from skqulacs.qnn import QNNRegressor\n",
    "\n",
    "n_qubit = 4\n",
    "depth = 6\n",
    "time_step = 0.5\n",
    "solver = Bfgs()\n",
    "maxiter= 1 \n",
    "circuit = create_qcl_ansatz(n_qubit, depth, time_step, 0)\n",
    "qnn = QNNRegressor(circuit, solver)\n",
    "\n",
    "iteration_num = 30 #iterationの回数\n",
    "iterations = [i for i in range(iteration_num)] #回数\n",
    "loss_values = [0 for i in range(iteration_num)] #opt_loss\n",
    "\n",
    "for i in range(iteration_num):\n",
    "  opt_loss, params_after = qnn.fit(x_train, y_train, maxiter)\n",
    "  loss_values[i] = opt_loss"
   ]
  },
  {
   "attachments": {},
   "cell_type": "markdown",
   "metadata": {},
   "source": [
    "学習の経過に従って, 損失関数の値が減少していくことを描画する."
   ]
  },
  {
   "cell_type": "code",
   "execution_count": 39,
   "metadata": {},
   "outputs": [
    {
     "data": {
      "image/png": "[encoded data removed]",
      "text/plain": [
       "<Figure size 432x288 with 1 Axes>"
      ]
     },
     "metadata": {
      "needs_background": "light"
     },
     "output_type": "display_data"
    }
   ],
   "source": [
    "import matplotlib.pyplot as plt\n",
    "plt.plot(iterations, loss_values, \"o\")\n",
    "plt.xlabel(\"iteration\")\n",
    "plt.ylabel(\"opt_loss\")\n",
    "plt.show()"
   ]
  }
 ],
 "metadata": {
  "kernelspec": {
   "display_name": "Python 3",
   "language": "python",
   "name": "python3"
  },
  "language_info": {
   "codemirror_mode": {
    "name": "ipython",
    "version": 3
   },
   "file_extension": ".py",
   "mimetype": "text/x-python",
   "name": "python",
   "nbconvert_exporter": "python",
   "pygments_lexer": "ipython3",
   "version": "3.9.10"
  },
  "orig_nbformat": 4,
  "vscode": {
   "interpreter": {
    "hash": "aee8b7b246df8f9039afb4144a1f6fd8d2ca17a180786b69acc140d282b71a49"
   }
  }
 },
 "nbformat": 4,
 "nbformat_minor": 2
}
